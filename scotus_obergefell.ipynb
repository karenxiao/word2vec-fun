{
 "cells": [
  {
   "cell_type": "markdown",
   "metadata": {},
   "source": [
    "#word2vec Text Analysis of Obergefell v. Hodges"
   ]
  },
  {
   "cell_type": "code",
   "execution_count": 18,
   "metadata": {
    "collapsed": true
   },
   "outputs": [],
   "source": [
    "import pandas as pd\n",
    "import re\n",
    "\n",
    "import nltk\n",
    "# nltk.download()\n",
    "from nltk.corpus import stopwords"
   ]
  },
  {
   "cell_type": "code",
   "execution_count": 19,
   "metadata": {
    "collapsed": false
   },
   "outputs": [],
   "source": [
    "file = open('raw_text/majority_opinion.txt', 'r')\n",
    "majority_opinion = file.read()"
   ]
  },
  {
   "cell_type": "code",
   "execution_count": 32,
   "metadata": {
    "collapsed": true
   },
   "outputs": [],
   "source": [
    "# Converts a document to a sequence of words, optionally removing stop words. Returns a list of words.\n",
    "def to_wordlist(raw, remove_stopwords=False):\n",
    "    # Remove non-letters\n",
    "    letters_only = re.sub(\"[^a-zA-Z]\",\" \", raw)\n",
    "    \n",
    "    # Convert words to lower case and split them\n",
    "    words = letters_only.lower().split()\n",
    "    #\n",
    "    # Optionally remove stop words (false by default)\n",
    "    if remove_stopwords:\n",
    "        stops = set(stopwords.words(\"english\"))\n",
    "        words = [w for w in words if not w in stops]\n",
    "\n",
    "    # Return a list of words\n",
    "    return words"
   ]
  },
  {
   "cell_type": "code",
   "execution_count": 66,
   "metadata": {
    "collapsed": false
   },
   "outputs": [],
   "source": [
    "# Splits a document into parsed sentences\n",
    "def to_sentences(raw, tokenizer, remove_stopwords=False):\n",
    "    # Use the NLTK tokenizer to split the paragraph into sentences\n",
    "    raw_sentences = tokenizer.tokenize(raw.decode('utf-8').strip())\n",
    "    \n",
    "    # Loop over each sentence\n",
    "    sentences = []\n",
    "    for raw_sentence in raw_sentences:\n",
    "        # If a sentence is empty, skip it\n",
    "        if len(raw_sentence) > 0:\n",
    "            # Otherwise, call review_to_wordlist to get a list of words\n",
    "            sentences.append(to_wordlist(raw_sentence, False))\n",
    "\n",
    "    # Return the list of sentences\n",
    "    return sentences"
   ]
  },
  {
   "cell_type": "code",
   "execution_count": 67,
   "metadata": {
    "collapsed": false
   },
   "outputs": [],
   "source": [
    "# Load the punkt tokenizer\n",
    "tokenizer = nltk.data.load('tokenizers/punkt/english.pickle')\n",
    "\n",
    "# Generate sentences\n",
    "sentences = to_sentences(majority_opinion, tokenizer)"
   ]
  },
  {
   "cell_type": "code",
   "execution_count": 68,
   "metadata": {
    "collapsed": false
   },
   "outputs": [
    {
     "name": "stdout",
     "output_type": "stream",
     "text": [
      "[u'the', u'constitution', u'promises', u'liberty', u'to', u'all', u'within', u'its', u'reach', u'a', u'liberty', u'that', u'includes', u'certain', u'specific', u'rights', u'that', u'allow', u'persons', u'within', u'a', u'lawful', u'realm', u'to', u'define', u'and', u'express', u'their', u'identity']\n",
      "423\n"
     ]
    }
   ],
   "source": [
    "print sentences[0]\n",
    "print len(sentences)"
   ]
  },
  {
   "cell_type": "code",
   "execution_count": 69,
   "metadata": {
    "collapsed": false
   },
   "outputs": [
    {
     "name": "stdout",
     "output_type": "stream",
     "text": [
      "Training model...\n",
      "Done\n"
     ]
    }
   ],
   "source": [
    "# Import the built-in logging module and configure it so that Word2Vec creates nice output messages\n",
    "import logging\n",
    "logging.basicConfig(format='%(asctime)s : %(levelname)s : %(message)s', level=logging.INFO)\n",
    "\n",
    "# Word vector dimensionality   \n",
    "num_features = 300\n",
    "# Minimum word count  \n",
    "min_word_count = 5\n",
    "# Number of threads to run in parallel\n",
    "num_workers = 4\n",
    "# Context window size     \n",
    "context = 10   \n",
    "# Downsample setting for frequent words\n",
    "downsampling = 1e-3 \n",
    "\n",
    "# Initialize and train the model\n",
    "from gensim.models import word2vec\n",
    "\n",
    "print \"Training model...\"\n",
    "model = word2vec.Word2Vec(\n",
    "    sentences, \n",
    "    workers=num_workers, \n",
    "    size=num_features, \n",
    "    min_count = min_word_count, \n",
    "    window = context, \n",
    "    sample = downsampling)\n",
    "\n",
    "# Call init_sims to make the model more memory-efficient (if no further training required)\n",
    "model.init_sims(replace=True)\n",
    "\n",
    "# Save the model for later use. Can be loaded later using Word2Vec.load()\n",
    "model_name = \"majority_opinion_300features_40minwords_10context\"\n",
    "model.save(model_name)\n",
    "print \"Done\""
   ]
  },
  {
   "cell_type": "code",
   "execution_count": 71,
   "metadata": {
    "collapsed": false
   },
   "outputs": [
    {
     "name": "stdout",
     "output_type": "stream",
     "text": [
      "[(u'of', 0.9975085258483887), (u'same', 0.9973676204681396), (u'it', 0.9973558187484741), (u'sex', 0.9973122477531433), (u'in', 0.997212290763855), (u'marry', 0.9971086978912354), (u'state', 0.9970664978027344), (u'as', 0.9970414638519287), (u'the', 0.997032642364502), (u'right', 0.997018039226532)]\n"
     ]
    }
   ],
   "source": [
    "print model.most_similar(\"love\")"
   ]
  },
  {
   "cell_type": "code",
   "execution_count": null,
   "metadata": {
    "collapsed": true
   },
   "outputs": [],
   "source": []
  }
 ],
 "metadata": {
  "kernelspec": {
   "display_name": "Python 2",
   "language": "python",
   "name": "python2"
  },
  "language_info": {
   "codemirror_mode": {
    "name": "ipython",
    "version": 2
   },
   "file_extension": ".py",
   "mimetype": "text/x-python",
   "name": "python",
   "nbconvert_exporter": "python",
   "pygments_lexer": "ipython2",
   "version": "2.7.9"
  }
 },
 "nbformat": 4,
 "nbformat_minor": 0
}
